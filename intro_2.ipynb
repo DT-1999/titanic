{
 "cells": [
  {
   "cell_type": "code",
   "execution_count": null,
   "metadata": {
    "deletable": false,
    "editable": false
   },
   "outputs": [],
   "source": [
    "# Initialize Otter\n",
    "import otter\n",
    "grader = otter.Notebook(\"intro_2.ipynb\")"
   ]
  },
  {
   "cell_type": "code",
   "execution_count": null,
   "metadata": {
    "scrolled": true
   },
   "outputs": [],
   "source": [
    "# Run this cell first, then restart the kernel\n",
    "%pip install ase\n",
    "%pip install abtem\n",
    "%pip install numpy==1.25.0"
   ]
  },
  {
   "cell_type": "code",
   "execution_count": null,
   "metadata": {},
   "outputs": [],
   "source": [
    "import numpy as np\n",
    "import scipy\n",
    "import matplotlib.pyplot as plt\n",
    "import time\n",
    "import ase\n",
    "import abtem"
   ]
  },
  {
   "cell_type": "markdown",
   "metadata": {
    "editable": true,
    "slideshow": {
     "slide_type": ""
    },
    "tags": []
   },
   "source": [
    "# HW 2: Introductory Python Part 2\n",
    "\n",
    "| Question  | Points |\n",
    "|---|---|\n",
    "| 1a  | 1  | \n",
    "| 1b | 3  |\n",
    "| 1c  | 1  |\n",
    "| 1d | 5 |\n",
    "| 4 | 10 |\n",
    "\n",
    "## Learning Goals: Plotting, Loops, and Functions\n",
    "\n",
    "In this next introductory assignment we will take a look at a visualization package called `matplotlib`, look at the usages of loops in Python, and functions. This assignment will (hopefully) go relatively quick, as the aim is just to give you some familiarity. And in lieu of plotting line plots, going over examples of while/for loops, and filling in generic functions. We'll instead look at something you may be tasked with in research.\n",
    "\n",
    "Here are some useful links:\n",
    "\n",
    "- https://numpy.org/doc/stable/index.html\n",
    "- https://matplotlib.org/\n"
   ]
  },
  {
   "cell_type": "markdown",
   "metadata": {},
   "source": [
    "# Problem Statement\n",
    "\n",
    "**Tomography** in microscopy is a technique of generating a 3D volume by *tilting* a sample about an axis. For every tilt, we take a 2D image to reconstruct. An example below is a tomographic reconstruction of a nanocube using a transmission electron microscope (TEM):\n",
    "\n",
    "<div style=\"text-align: center;\">\n",
    "    <img src=\"Electron_tomography_of_nanocubes_visualized_with_tomviz.gif\" width=\"500\">\n",
    "</div>\n",
    "\n",
    "A much more common example would be CT scan, but instead of your sample rotating, the X-rays rotate about a person's body.\n",
    "\n",
    "Here's the problem:\n",
    "\n",
    "```\n",
    "Your research advisor at the National Center for Electron Microscopy at LBNL gives you simulated data of a cube nanoparticle. They ask you to simulate a tomography dataset, so that you can compare a simulated and experimental reconstruction of the nanoparticle\n",
    "```\n"
   ]
  },
  {
   "cell_type": "markdown",
   "metadata": {},
   "source": [
    "\n",
    "\n",
    "Below is code of how we construct our FCC gold nanoparticle. Feel free to change it, but when you submit please retain the original parameters.\n"
   ]
  },
  {
   "cell_type": "code",
   "execution_count": null,
   "metadata": {},
   "outputs": [],
   "source": [
    "from ase.cluster.cubic import FaceCenteredCubic\n",
    "import ase.visualize\n",
    "\n",
    "surfaces = [(1, 0, 0), (1, 1, 0), (1, 1, 1)]\n",
    "layers = [6, 9, 5]\n",
    "lc = 4.078\n",
    "nanoparticle = FaceCenteredCubic('Au', surfaces, layers, latticeconstant=lc)\n",
    "nanoparticle.set_cell([30, 30, 30])\n",
    "nanoparticle.center()\n",
    "print(nanoparticle.get_center_of_mass())\n",
    "# ase.visualize.view(nanoparticle, viewer = 'x3d') # Uncomment to view particle"
   ]
  },
  {
   "cell_type": "markdown",
   "metadata": {},
   "source": [
    "### Part a)\n",
    "\n",
    "While we can visualize the structure of our nanoparticle, what we're more interested in is what are the *atomic coordinates* of each atom. To get a better visualization we will use `plt.scatter` to show a 3D point cloud of our nanoparticle.\n",
    "\n",
    "Below is a simple example of the usage of `matplotlib`'s `scatter` function using `plt.subplots`:"
   ]
  },
  {
   "cell_type": "code",
   "execution_count": null,
   "metadata": {},
   "outputs": [],
   "source": [
    "coordinates = np.random.random((3, 100)) # Defines an array with 3 rows, and 100 columns with random values (0, 1).\n",
    "\n",
    "fig, ax = plt.subplots(subplot_kw={\"projection\": \"3d\"})\n",
    "ax.scatter(coordinates[0], coordinates[1], coordinates[2])\n",
    "\n",
    "plt.show()"
   ]
  },
  {
   "cell_type": "markdown",
   "metadata": {},
   "source": [
    "Plot the nanoparticle using the example code shown above. The positions of the nanoparticle is defined for you, using `nanoparticle.positions`. \n",
    "\n",
    "*Hint: how would you slice to get the $x$, $y$, and $z$ values?*\n",
    "\n",
    "*Note: This problem is also manually graded for testing purposes. Please make sure you made a 3D scatter plot like the example above.*"
   ]
  },
  {
   "cell_type": "markdown",
   "metadata": {
    "deletable": false,
    "editable": false
   },
   "source": [
    "<!-- BEGIN QUESTION -->\n",
    "\n"
   ]
  },
  {
   "cell_type": "code",
   "execution_count": null,
   "metadata": {
    "tags": []
   },
   "outputs": [],
   "source": [
    "np_positions = nanoparticle.positions\n",
    "\n",
    "print(\"First 10 atom positions: \\n\", np_positions[:10])\n",
    "\n",
    "x = ...\n",
    "y = ...\n",
    "z = ...\n",
    "...\n",
    "plt.show()"
   ]
  },
  {
   "cell_type": "code",
   "execution_count": null,
   "metadata": {
    "deletable": false,
    "editable": false
   },
   "outputs": [],
   "source": [
    "grader.check(\"q1a\")"
   ]
  },
  {
   "cell_type": "markdown",
   "metadata": {
    "deletable": false,
    "editable": false
   },
   "source": [
    "<!-- END QUESTION -->\n",
    "\n",
    "We will now develop a way where we can *tilt* our sample. Since in TEM data we always have a top-down view of our data (i.e looking from frame of the z-axis), so we will **tilt over the y-axis**. Below is an example of tilting the nanoparticle 20 degrees, and 45 degrees.\n",
    "\n",
    "We will use `abtem`'s built-in visualization of atoms to show a x-y view of our nanoparticle."
   ]
  },
  {
   "cell_type": "code",
   "execution_count": null,
   "metadata": {},
   "outputs": [],
   "source": [
    "rot_test = nanoparticle.copy()\n",
    "abtem.show_atoms(rot_test, title=\"Original Orientation\")\n",
    "rot_test.rotate(20, 'y', center = (15, 15, 15))\n",
    "abtem.show_atoms(rot_test, title=\"Tilted 20 Degrees\")\n",
    "rot_test.rotate(25, 'y', center = (15,15,15))\n",
    "abtem.show_atoms(rot_test, title=\"Tilted 45 Degrees\")"
   ]
  },
  {
   "cell_type": "markdown",
   "metadata": {},
   "source": [
    "Note that the rotations are **cumulative**, i.e rotating the particle once will change the state of the variable `nanoparticle`."
   ]
  },
  {
   "cell_type": "markdown",
   "metadata": {},
   "source": [
    "Since it's not really realistic to take an image of the atomic coordinates, we will use the **function** `ase_to_potential` which is implemented for you to give a [projected potential](https://abtem.readthedocs.io/en/latest/reference/api/_autosummary/abtem.potentials.iam.Potential.html) image of a nanoparticle. Functions in `python` are exactly in math i.e, you have an input $x$ that you pass into a function, $f(x)$, which returns a value. Python functions have the general syntax:"
   ]
  },
  {
   "cell_type": "code",
   "execution_count": null,
   "metadata": {},
   "outputs": [],
   "source": [
    "def my_func(x): # Has an input x\n",
    "    \n",
    "    result = x**2\n",
    "    \n",
    "    return result\n",
    "\n",
    "print(my_func(2))"
   ]
  },
  {
   "cell_type": "markdown",
   "metadata": {},
   "source": [
    "### part b)\n",
    "\n",
    "For the next problem, we will implement a function that transforms our nanoparticle into a projected potential. Read the documentation of [`abtem.Potential`](https://abtem.readthedocs.io/en/latest/reference/api/_autosummary/abtem.potentials.iam.Potential.html), and define `potential`.\n",
    "\n",
    "Use the parameters:\n",
    "- parametrization: \"kirkland\"\n",
    "- projection: \"infinite\n",
    "- sampling = 0.25\n",
    "- slice_thickness = 0.25"
   ]
  },
  {
   "cell_type": "markdown",
   "metadata": {
    "deletable": false,
    "editable": false
   },
   "source": [
    "<!-- BEGIN QUESTION -->\n",
    "\n"
   ]
  },
  {
   "cell_type": "code",
   "execution_count": null,
   "metadata": {
    "tags": []
   },
   "outputs": [],
   "source": [
    "def ase_to_potential(np_sys):\n",
    "    \n",
    "    potential = ...\n",
    "    \n",
    "    potentialArray = potential.build()\n",
    "    \n",
    "    return np.transpose(potentialArray.array.compute().sum(axis = 0))\n",
    "\n",
    "test = ase_to_potential(nanoparticle)\n",
    "\n",
    "plt.figure()\n",
    "plt.imshow(test, cmap = \"inferno\")\n",
    "plt.colorbar()"
   ]
  },
  {
   "cell_type": "code",
   "execution_count": null,
   "metadata": {
    "deletable": false,
    "editable": false
   },
   "outputs": [],
   "source": [
    "grader.check(\"q1b\")"
   ]
  },
  {
   "cell_type": "markdown",
   "metadata": {
    "deletable": false,
    "editable": false
   },
   "source": [
    "<!-- END QUESTION -->\n",
    "\n",
    "Note that what **we want is to get a 2D image per-tilt**. This problem neccesitates the use of a `for`-loop, as we need to repeat taking a 2D image per tilt. Below are examples of usages of a `for`-loop:"
   ]
  },
  {
   "cell_type": "code",
   "execution_count": null,
   "metadata": {},
   "outputs": [],
   "source": [
    "my_nums = np.arange(0, 10) # Generates a numpy array of values going from 0 to 9 (arange is not inclusive)\n",
    "\n",
    "print(\"General for-loop\")\n",
    "for i in range(len(my_nums)): # We need to pass an integer value of how long our list is to range.\n",
    "    print(my_nums[i]) # Access each value in my_nums by indexing.\n",
    "\n",
    "print(\"Pythonic for-loop\")\n",
    "for num in my_nums: # Iterates over each element in my_nums without indexing.\n",
    "    print(num) # Gives the number directly without indexing."
   ]
  },
  {
   "cell_type": "markdown",
   "metadata": {},
   "source": [
    "So within our for-loop we want to accomplish the following:\n",
    "\n",
    "1. Set a range of tilt angles from $[-90, 90]$\n",
    "2. Rotate our nanoparticle 5 degrees per iteration in the for loop.\n",
    "3. Append the projected potential of the rotated nanoparticle to a list.\n",
    "4. Keep track of the *cumulative* tilt angle.\n",
    "\n",
    "We'll break this into steps.\n",
    "\n",
    "### part c)\n",
    "\n",
    "Since the state of the nanoparticle is changed when we perform `nanoparticle.rotate`, we want **increments of 5 degrees that span our tilt range**. Given our minimum, and maximum tilt use [`np.ones()`](https://numpy.org/doc/2.1/reference/generated/numpy.ones.html) to create an array of 5's. You may also choose to skip `tilt_step`, since there is a more straightforward way to do this just using $\\Delta \\phi = 5$.\n",
    "\n",
    "*Hint: to determine `step_len`, determine how many 5's it would take to go from -90 to 90 using `tilt_min`, and `tilt_max`. Use `step_len` in your implementation for `steps`.* Make sure `step_len` is an `int`.\n"
   ]
  },
  {
   "cell_type": "markdown",
   "metadata": {
    "deletable": false,
    "editable": false
   },
   "source": [
    "<!-- BEGIN QUESTION -->\n",
    "\n"
   ]
  },
  {
   "cell_type": "code",
   "execution_count": null,
   "metadata": {
    "tags": []
   },
   "outputs": [],
   "source": [
    "tilt_start = ...\n",
    "tilt_end = ...\n",
    "\n",
    "tilts_len = ...\n",
    "tilt_step = ...\n"
   ]
  },
  {
   "cell_type": "code",
   "execution_count": null,
   "metadata": {
    "deletable": false,
    "editable": false
   },
   "outputs": [],
   "source": [
    "grader.check(\"q1c\")"
   ]
  },
  {
   "cell_type": "markdown",
   "metadata": {
    "deletable": false,
    "editable": false
   },
   "source": [
    "<!-- END QUESTION -->\n",
    "\n",
    "### part d)\n",
    "\n",
    "Now we can build our `for`-loop. It should have the following functionality:\n",
    "\n",
    "1. Rotate our nanoparticle.\n",
    "2. Get its projected potential using `ase_to_potential`.\n",
    "3. Append the projected potential to a `list`.\n",
    "4. Append the current tilt angle to another `list`.\n",
    "\n",
    "The code below is partially completed for you, and is rotated to the beginning orientation."
   ]
  },
  {
   "cell_type": "markdown",
   "metadata": {
    "deletable": false,
    "editable": false
   },
   "source": [
    "<!-- BEGIN QUESTION -->\n",
    "\n"
   ]
  },
  {
   "cell_type": "code",
   "execution_count": null,
   "metadata": {
    "tags": []
   },
   "outputs": [],
   "source": [
    "to_rotate = nanoparticle.copy() # Copies the original nanoparticle\n",
    "\n",
    "center = (15, 15, 15) # Center of the unit cell.\n",
    "to_rotate.rotate(tilt_start, v='y', center = center) # Rotate the nanoparticle to the starting orientation.\n",
    "\n",
    "curr_angle = tilt_start # Current angle.\n",
    "projected_images = [] # List for projected images.\n",
    "tilt_angles = [] # List for current tilt angle.\n",
    "\n",
    "# Append current starting orientation.\n",
    "projected_images.append(ase_to_potential(to_rotate)) # Projected potential\n",
    "tilt_angles.append(curr_angle) # Current tilt angle\n",
    "\n",
    "\n",
    "for i in range(tilts_len):\n",
    "    ..."
   ]
  },
  {
   "cell_type": "code",
   "execution_count": null,
   "metadata": {
    "tags": []
   },
   "outputs": [],
   "source": [
    "'''\n",
    "The below cell is not graded, but you should use ax.imshow, which scans through the projected_images list using [ind]\n",
    "'''\n",
    "# Check if your data makes sense. I.e, ind=0 and ind=-1 should be the same!\n",
    "ind = 24\n",
    "fig, ax = plt.subplots()\n",
    "fig.suptitle(f\"Projected Potential at {tilt_angles[ind]}\")\n",
    "im = ...\n"
   ]
  },
  {
   "cell_type": "code",
   "execution_count": null,
   "metadata": {
    "deletable": false,
    "editable": false
   },
   "outputs": [],
   "source": [
    "grader.check(\"q1d\")"
   ]
  },
  {
   "cell_type": "markdown",
   "metadata": {
    "deletable": false,
    "editable": false
   },
   "source": [
    "<!-- END QUESTION -->\n",
    "\n",
    "We have successfully created a tomography dataset, ready for reconstruction! This example shows where using a function (`ase_to_potential`) makes sense to make your code readable, as well as where a `for`-loop is necessary to perform the task given. Unfortunately, datahub will not let me install `tomopy` (a framework for doing tomographic reconstruction). So for fun, I will also upload an additional notebook that you can put into Google Colab, which continues from where we left off in this assignment.\n",
    "\n",
    "In the next computational assignment, you will gain more hands-on experience with building your own functions, and using `for`-loops."
   ]
  },
  {
   "cell_type": "code",
   "execution_count": null,
   "metadata": {},
   "outputs": [],
   "source": []
  },
  {
   "cell_type": "markdown",
   "metadata": {
    "deletable": false,
    "editable": false
   },
   "source": [
    "## Submission\n",
    "\n",
    "Make sure you have run all cells in your notebook in order before running the cell below, so that all images/graphs appear in the output. The cell below will generate a zip file for you to submit. **Please save before exporting!**"
   ]
  },
  {
   "cell_type": "code",
   "execution_count": null,
   "metadata": {
    "deletable": false,
    "editable": false
   },
   "outputs": [],
   "source": [
    "# Save your notebook first, then run this cell to export your submission.\n",
    "grader.export(run_tests=True)"
   ]
  },
  {
   "cell_type": "markdown",
   "metadata": {},
   "source": [
    " "
   ]
  }
 ],
 "metadata": {
  "kernelspec": {
   "display_name": "Python 3 (ipykernel)",
   "language": "python",
   "name": "python3"
  },
  "language_info": {
   "codemirror_mode": {
    "name": "ipython",
    "version": 3
   },
   "file_extension": ".py",
   "mimetype": "text/x-python",
   "name": "python",
   "nbconvert_exporter": "python",
   "pygments_lexer": "ipython3",
   "version": "3.11.11"
  },
  "otter": {
   "OK_FORMAT": true,
   "tests": {
    "q1a": {
     "name": "q1a",
     "points": 1,
     "suites": [
      {
       "cases": [
        {
         "code": ">>> bool(np.isclose(x[12], 4.804999999999998))\nTrue",
         "hidden": false,
         "locked": false
        },
        {
         "code": ">>> np.sum(y) == 10125.0\nTrue",
         "hidden": false,
         "locked": false
        },
        {
         "code": ">>> np.average(z) == 15.0\nTrue",
         "hidden": false,
         "locked": false
        }
       ],
       "scored": true,
       "setup": "",
       "teardown": "",
       "type": "doctest"
      }
     ]
    },
    "q1b": {
     "name": "q1b",
     "points": 3,
     "suites": [
      {
       "cases": [
        {
         "code": ">>> type(ase_to_potential(nanoparticle)) == np.ndarray\nTrue",
         "hidden": false,
         "locked": false
        },
        {
         "code": ">>> np.shape(test) == (120, 120)\nTrue",
         "hidden": false,
         "locked": false
        },
        {
         "code": ">>> bool(np.isclose(np.average(test), 378.9523))\nTrue",
         "hidden": false,
         "locked": false
        }
       ],
       "scored": true,
       "setup": "",
       "teardown": "",
       "type": "doctest"
      }
     ]
    },
    "q1c": {
     "name": "q1c",
     "points": 1,
     "suites": [
      {
       "cases": [
        {
         "code": ">>> tilts_len == 36\nTrue",
         "hidden": false,
         "locked": false
        },
        {
         "code": ">>> type(tilts_len) == int\nTrue",
         "hidden": false,
         "locked": false
        }
       ],
       "scored": true,
       "setup": "",
       "teardown": "",
       "type": "doctest"
      }
     ]
    },
    "q1d": {
     "name": "q1d",
     "points": 5,
     "suites": [
      {
       "cases": [
        {
         "code": ">>> tilt_angles[1] == -85\nTrue",
         "hidden": false,
         "locked": false
        },
        {
         "code": ">>> bool(np.all(tilt_angles == np.arange(-90, 95, 5)))\nTrue",
         "hidden": false,
         "locked": false
        },
        {
         "code": ">>> bool(np.isclose(np.sum(projected_images[0][0]), 85, rtol=0.1))\nTrue",
         "hidden": false,
         "locked": false
        },
        {
         "code": ">>> bool(np.isclose(np.sum(projected_images[12][5]), 518.1994))\nTrue",
         "hidden": false,
         "locked": false
        }
       ],
       "scored": true,
       "setup": "",
       "teardown": "",
       "type": "doctest"
      }
     ]
    }
   }
  }
 },
 "nbformat": 4,
 "nbformat_minor": 4
}
